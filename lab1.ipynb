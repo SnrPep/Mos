{
  "nbformat": 4,
  "nbformat_minor": 0,
  "metadata": {
    "colab": {
      "provenance": [],
      "authorship_tag": "ABX9TyM9NdLl0vhWL6pFi8Dqhc9V",
      "include_colab_link": true
    },
    "kernelspec": {
      "name": "python3",
      "display_name": "Python 3"
    },
    "language_info": {
      "name": "python"
    }
  },
  "cells": [
    {
      "cell_type": "markdown",
      "metadata": {
        "id": "view-in-github",
        "colab_type": "text"
      },
      "source": [
        "<a href=\"https://colab.research.google.com/github/SnrPep/Mos/blob/main/lab1.ipynb\" target=\"_parent\"><img src=\"https://colab.research.google.com/assets/colab-badge.svg\" alt=\"Open In Colab\"/></a>"
      ]
    },
    {
      "cell_type": "code",
      "source": [
        "import pymorphy3\n",
        "import nltk\n",
        "nltk.download('punkt_tab')\n",
        "from nltk.stem.snowball import SnowballStemmer"
      ],
      "metadata": {
        "colab": {
          "base_uri": "https://localhost:8080/"
        },
        "id": "KeOiyBLO3MrU",
        "outputId": "c6bcf2c7-f4c1-4759-96c3-31c30876d034"
      },
      "execution_count": null,
      "outputs": [
        {
          "output_type": "stream",
          "name": "stderr",
          "text": [
            "[nltk_data] Downloading package punkt_tab to /root/nltk_data...\n",
            "[nltk_data]   Package punkt_tab is already up-to-date!\n"
          ]
        }
      ]
    },
    {
      "cell_type": "code",
      "execution_count": null,
      "metadata": {
        "colab": {
          "base_uri": "https://localhost:8080/"
        },
        "id": "_dNbleizyuIe",
        "outputId": "43f6b8d2-a86c-47b9-b7e4-66a2fb314352"
      },
      "outputs": [
        {
          "output_type": "stream",
          "name": "stdout",
          "text": [
            "Лемматизация: кошка быстро бегать по двору, прыгать через забор и охотиться на птиц.\n"
          ]
        }
      ],
      "source": [
        "text = \"Кошки быстро бегают по двору, прыгая через заборы и охотясь на птиц.\"\n",
        "\n",
        "morph = pymorphy3.MorphAnalyzer()\n",
        "\n",
        "lemmas = \" \".join(morph.parse(word)[0].normal_form for word in text.split())\n",
        "\n",
        "print(\"Лемматизация:\", lemmas)"
      ]
    },
    {
      "cell_type": "code",
      "source": [
        "stemmer = SnowballStemmer(\"russian\")\n",
        "\n",
        "words = nltk.word_tokenize(text)\n",
        "\n",
        "stems = [stemmer.stem(word) for word in words]\n",
        "\n",
        "print(\"Стемминг:\", \" \".join(stems))"
      ],
      "metadata": {
        "colab": {
          "base_uri": "https://localhost:8080/"
        },
        "id": "N4gTyqSh3hPk",
        "outputId": "3aa9d35e-b248-493b-c970-a1f923db6f13"
      },
      "execution_count": null,
      "outputs": [
        {
          "output_type": "stream",
          "name": "stdout",
          "text": [
            "Стемминг: кошк быстр бега по двор , прыг через забор и охот на птиц .\n"
          ]
        }
      ]
    },
    {
      "cell_type": "code",
      "source": [
        "#Векторизация в ACKII\n",
        "def tokenize_ascii(text):\n",
        "    return list(text)\n",
        "\n",
        "#Токенизация в ACKII\n",
        "def vectorize_ascii(tokens):\n",
        "    return [ord(char) for char in tokens]\n",
        "\n",
        "lemmas_text = \" \".join(lemmas)\n",
        "stems_text = \" \".join(stems)\n",
        "\n",
        "#Токенизация\n",
        "tokens_lemmas = tokenize_ascii(lemmas_text)\n",
        "tokens_stems = tokenize_ascii(stems_text)\n",
        "\n",
        "#Векторизация\n",
        "vector_lemmas = vectorize_ascii(tokens_lemmas)\n",
        "vector_stems = vectorize_ascii(tokens_stems)\n",
        "\n",
        "lemmas_dict = {tokens_lemmas[i]: vector_lemmas[i] for i in range(len(tokens_lemmas))}\n",
        "stems_dict = {tokens_stems[i]: vector_stems[i] for i in range(len(tokens_stems))}\n",
        "\n",
        "print(\"Лемматизация:\", lemmas_dict)\n",
        "print(\"Стемминг:\", stems_dict)"
      ],
      "metadata": {
        "colab": {
          "base_uri": "https://localhost:8080/"
        },
        "id": "Sy9Gxayz4Lqm",
        "outputId": "065ea9ba-e651-4162-de3f-8b1aea3258d8"
      },
      "execution_count": null,
      "outputs": [
        {
          "output_type": "stream",
          "name": "stdout",
          "text": [
            "Лемматизация: {'к': 1082, ' ': 32, 'о': 1086, 'ш': 1096, 'а': 1072, 'б': 1073, 'ы': 1099, 'с': 1089, 'т': 1090, 'р': 1088, 'е': 1077, 'г': 1075, 'ь': 1100, 'п': 1087, 'д': 1076, 'в': 1074, 'у': 1091, ',': 44, 'ч': 1095, 'з': 1079, 'и': 1080, 'х': 1093, 'я': 1103, 'н': 1085, 'ц': 1094, '.': 46}\n",
            "Стемминг: {'к': 1082, 'о': 1086, 'ш': 1096, ' ': 32, 'б': 1073, 'ы': 1099, 'с': 1089, 'т': 1090, 'р': 1088, 'е': 1077, 'г': 1075, 'а': 1072, 'п': 1087, 'д': 1076, 'в': 1074, ',': 44, 'ч': 1095, 'з': 1079, 'и': 1080, 'х': 1093, 'н': 1085, 'ц': 1094, '.': 46}\n"
          ]
        }
      ]
    }
  ]
}
{
  "nbformat": 4,
  "nbformat_minor": 0,
  "metadata": {
    "colab": {
      "provenance": [],
      "authorship_tag": "ABX9TyOTLl9m/Esco1nnccksVvZH",
      "include_colab_link": true
    },
    "kernelspec": {
      "name": "python3",
      "display_name": "Python 3"
    },
    "language_info": {
      "name": "python"
    }
  },
  "cells": [
    {
      "cell_type": "markdown",
      "metadata": {
        "id": "view-in-github",
        "colab_type": "text"
      },
      "source": [
        "<a href=\"https://colab.research.google.com/github/SnrPep/Mos/blob/main/lab1.ipynb\" target=\"_parent\"><img src=\"https://colab.research.google.com/assets/colab-badge.svg\" alt=\"Open In Colab\"/></a>"
      ]
    },
    {
      "cell_type": "code",
      "source": [
        "!pip install pymorphy3\n",
        "import pymorphy3\n",
        "import nltk\n",
        "nltk.download('punkt_tab')\n",
        "nltk.download('wordnet')\n",
        "from nltk.stem.snowball import SnowballStemmer\n",
        "import nltk\n",
        "from nltk.stem import WordNetLemmatizer, PorterStemmer\n",
        "from nltk.tokenize import word_tokenize"
      ],
      "metadata": {
        "colab": {
          "base_uri": "https://localhost:8080/"
        },
        "id": "KeOiyBLO3MrU",
        "outputId": "257b8aee-89f3-4803-fe12-299b931610f7"
      },
      "execution_count": 14,
      "outputs": [
        {
          "output_type": "stream",
          "name": "stdout",
          "text": [
            "Requirement already satisfied: pymorphy3 in /usr/local/lib/python3.11/dist-packages (2.0.3)\n",
            "Requirement already satisfied: dawg2-python>=0.8.0 in /usr/local/lib/python3.11/dist-packages (from pymorphy3) (0.9.0)\n",
            "Requirement already satisfied: pymorphy3-dicts-ru in /usr/local/lib/python3.11/dist-packages (from pymorphy3) (2.4.417150.4580142)\n"
          ]
        },
        {
          "output_type": "stream",
          "name": "stderr",
          "text": [
            "[nltk_data] Downloading package punkt_tab to /root/nltk_data...\n",
            "[nltk_data]   Package punkt_tab is already up-to-date!\n",
            "[nltk_data] Downloading package wordnet to /root/nltk_data...\n",
            "[nltk_data]   Package wordnet is already up-to-date!\n"
          ]
        }
      ]
    },
    {
      "cell_type": "code",
      "execution_count": 18,
      "metadata": {
        "colab": {
          "base_uri": "https://localhost:8080/"
        },
        "id": "_dNbleizyuIe",
        "outputId": "40b15999-7791-47db-9338-094c09500859"
      },
      "outputs": [
        {
          "output_type": "stream",
          "name": "stdout",
          "text": [
            "Лемматизация: у лукоморье дуб зелёный;\n"
          ]
        }
      ],
      "source": [
        "text = \"У лукоморья дуб зелёный;\"\n",
        "\n",
        "morph = pymorphy3.MorphAnalyzer()\n",
        "\n",
        "lemmas = \" \".join(morph.parse(word)[0].normal_form for word in text.split())\n",
        "\n",
        "print(\"Лемматизация:\", lemmas)"
      ]
    },
    {
      "cell_type": "code",
      "source": [
        "stemmer = SnowballStemmer(\"russian\")\n",
        "\n",
        "words = nltk.word_tokenize(text)\n",
        "\n",
        "stems = [stemmer.stem(word) for word in words]\n",
        "\n",
        "print(\"Стемминг:\", \" \".join(stems))"
      ],
      "metadata": {
        "colab": {
          "base_uri": "https://localhost:8080/"
        },
        "id": "N4gTyqSh3hPk",
        "outputId": "f66f1819-5130-4846-ae0d-ff7e8320b56f"
      },
      "execution_count": 19,
      "outputs": [
        {
          "output_type": "stream",
          "name": "stdout",
          "text": [
            "Стемминг: у лукомор дуб зелен ;\n"
          ]
        }
      ]
    },
    {
      "cell_type": "code",
      "source": [
        "new_text = \"Big text with some words and symbols!\"\n",
        "\n",
        "def tokenize_ascii(text: str) -> list[str]:\n",
        "    # Токенизация всех символов из ASCII\n",
        "    return [char for char in text if ord(char) < 128]\n",
        "\n",
        "def vectorize_ascii(tokens: list[str]) -> list[int]:\n",
        "    # Векторизация всех символов из ASCII\n",
        "    return [ord(char) for char in tokens]\n",
        "\n",
        "def lemmatize_and_stem(text: str) -> str:\n",
        "    # Лемматизация и стемминг текста\n",
        "    lemmatizer = WordNetLemmatizer()\n",
        "    stemmer = PorterStemmer()\n",
        "    tokens = word_tokenize(text)\n",
        "    lemmatized_tokens = [lemmatizer.lemmatize(token) for token in tokens]\n",
        "    stemmed_tokens = [stemmer.stem(token) for token in lemmatized_tokens]\n",
        "    return ' '.join(stemmed_tokens)\n",
        "\n",
        "processed_text = lemmatize_and_stem(new_text)\n",
        "print(\"Processed Text:\", processed_text)\n",
        "\n",
        "# Токенизация ASCII символов\n",
        "tokenized_text = tokenize_ascii(processed_text)\n",
        "print(\"Tokenized Text:\", tokenized_text)\n",
        "\n",
        "# Векторизация ASCII символов\n",
        "vectorized_text = vectorize_ascii(tokenized_text)\n",
        "print(\"Vectorized Text:\", vectorized_text)"
      ],
      "metadata": {
        "colab": {
          "base_uri": "https://localhost:8080/"
        },
        "id": "Sy9Gxayz4Lqm",
        "outputId": "10eb45d9-1484-43a7-f0d3-204581f587d7"
      },
      "execution_count": 23,
      "outputs": [
        {
          "output_type": "stream",
          "name": "stdout",
          "text": [
            "Processed Text: big text with some word and symbol !\n",
            "Tokenized Text: ['b', 'i', 'g', ' ', 't', 'e', 'x', 't', ' ', 'w', 'i', 't', 'h', ' ', 's', 'o', 'm', 'e', ' ', 'w', 'o', 'r', 'd', ' ', 'a', 'n', 'd', ' ', 's', 'y', 'm', 'b', 'o', 'l', ' ', '!']\n",
            "Vectorized Text: [98, 105, 103, 32, 116, 101, 120, 116, 32, 119, 105, 116, 104, 32, 115, 111, 109, 101, 32, 119, 111, 114, 100, 32, 97, 110, 100, 32, 115, 121, 109, 98, 111, 108, 32, 33]\n"
          ]
        }
      ]
    }
  ]
}
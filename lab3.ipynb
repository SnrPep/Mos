{
  "nbformat": 4,
  "nbformat_minor": 0,
  "metadata": {
    "colab": {
      "provenance": [],
      "authorship_tag": "ABX9TyOz148uhpZUdbe/DZv37pst",
      "include_colab_link": true
    },
    "kernelspec": {
      "name": "python3",
      "display_name": "Python 3"
    },
    "language_info": {
      "name": "python"
    }
  },
  "cells": [
    {
      "cell_type": "markdown",
      "metadata": {
        "id": "view-in-github",
        "colab_type": "text"
      },
      "source": [
        "<a href=\"https://colab.research.google.com/github/SnrPep/Mos/blob/main/lab3.ipynb\" target=\"_parent\"><img src=\"https://colab.research.google.com/assets/colab-badge.svg\" alt=\"Open In Colab\"/></a>"
      ]
    },
    {
      "cell_type": "code",
      "execution_count": 9,
      "metadata": {
        "id": "GGlGCZmV_CiV"
      },
      "outputs": [],
      "source": [
        "import numpy as np\n",
        "\n",
        "class ConfigurableNeuralNetwork:\n",
        "    def __init__(self, input_size, hidden_size, output_size):\n",
        "        self.input_size = input_size\n",
        "        self.hidden_size = hidden_size\n",
        "        self.output_size = output_size\n",
        "\n",
        "        self.W1 = np.random.randn(self.input_size, self.hidden_size)\n",
        "        self.b1 = np.zeros((1, self.hidden_size))\n",
        "        self.W2 = np.random.randn(self.hidden_size, self.output_size)\n",
        "        self.b2 = np.zeros((1, self.output_size))\n",
        "\n",
        "    def sigmoid(self, x):\n",
        "        return 1 / (1 + np.exp(-x))\n",
        "\n",
        "    def sigmoid_derivative(self, x):\n",
        "        return x * (1 - x)\n",
        "\n",
        "    def forward(self, X):\n",
        "        self.z1 = np.dot(X, self.W1) + self.b1\n",
        "        self.a1 = self.sigmoid(self.z1)\n",
        "        self.z2 = np.dot(self.a1, self.W2) + self.b2\n",
        "        self.a2 = self.sigmoid(self.z2)\n",
        "        return self.a2, self.a1\n",
        "\n",
        "    def backward(self, X, y, output, hidden_layer, learning_rate):\n",
        "        error = y - output\n",
        "        delta2 = error * self.sigmoid_derivative(output)\n",
        "        dW2 = np.dot(hidden_layer.T, delta2)\n",
        "        db2 = np.sum(delta2, axis=0, keepdims=True)\n",
        "\n",
        "        delta1 = delta2.dot(self.W2.T) * self.sigmoid_derivative(hidden_layer)\n",
        "        dW1 = np.dot(X.T, delta1)\n",
        "        db1 = np.sum(delta1, axis=0, keepdims=True)\n",
        "\n",
        "        self.W1 += learning_rate * dW1\n",
        "        self.b1 += learning_rate * db1\n",
        "        self.W2 += learning_rate * dW2\n",
        "        self.b2 += learning_rate * db2\n",
        "\n",
        "    def train(self, X, y, learning_rate, epochs):\n",
        "        for epoch in range(epochs):\n",
        "            output, hidden_layer = self.forward(X)\n",
        "            self.backward(X, y, output, hidden_layer, learning_rate)\n",
        "            if epoch % 1000 == 0:\n",
        "                loss = np.mean(np.square(y - output))\n",
        "                print(f\"Epoch {epoch}, Loss: {loss:.4f}\")\n",
        "\n",
        "    def predict(self, X):\n",
        "        output, _ = self.forward(X)\n",
        "        return np.round(output)"
      ]
    },
    {
      "cell_type": "code",
      "source": [
        "np.random.seed(0)\n",
        "X = np.random.rand(100, 2)\n",
        "y = (X[:, 0] + X[:, 1] > 1).astype(int).reshape(-1, 1)\n",
        "\n",
        "nn = ConfigurableNeuralNetwork(input_size=2, hidden_size=5, output_size=1)\n",
        "nn.train(X, y, learning_rate=0.1, epochs=5000)\n",
        "\n",
        "print(\"Прогнозы на первых 5 примерах:\")\n",
        "print(nn.predict(X[:5]))"
      ],
      "metadata": {
        "colab": {
          "base_uri": "https://localhost:8080/"
        },
        "id": "0gdukQJIAEMa",
        "outputId": "67777f4d-0b82-4478-8fe7-e83d04e4b487"
      },
      "execution_count": 10,
      "outputs": [
        {
          "output_type": "stream",
          "name": "stdout",
          "text": [
            "Epoch 0, Loss: 0.3002\n",
            "Epoch 1000, Loss: 0.0135\n",
            "Epoch 2000, Loss: 0.0090\n",
            "Epoch 3000, Loss: 0.0078\n",
            "Epoch 4000, Loss: 0.0064\n",
            "Прогнозы на первых 5 примерах:\n",
            "[[1.]\n",
            " [1.]\n",
            " [1.]\n",
            " [1.]\n",
            " [1.]]\n"
          ]
        }
      ]
    }
  ]
}
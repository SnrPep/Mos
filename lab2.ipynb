{
  "nbformat": 4,
  "nbformat_minor": 0,
  "metadata": {
    "colab": {
      "provenance": [],
      "authorship_tag": "ABX9TyM/120RRGxwYIoCg8/h4ns9",
      "include_colab_link": true
    },
    "kernelspec": {
      "name": "python3",
      "display_name": "Python 3"
    },
    "language_info": {
      "name": "python"
    }
  },
  "cells": [
    {
      "cell_type": "markdown",
      "metadata": {
        "id": "view-in-github",
        "colab_type": "text"
      },
      "source": [
        "<a href=\"https://colab.research.google.com/github/SnrPep/Mos/blob/main/lab2.ipynb\" target=\"_parent\"><img src=\"https://colab.research.google.com/assets/colab-badge.svg\" alt=\"Open In Colab\"/></a>"
      ]
    },
    {
      "cell_type": "code",
      "source": [
        "!pip install pymorphy3\n",
        "import nltk\n",
        "from nltk.corpus import stopwords\n",
        "from pymorphy3 import MorphAnalyzer\n",
        "import re\n",
        "from sklearn.feature_extraction.text import CountVectorizer, TfidfVectorizer\n",
        "\n",
        "nltk.download('stopwords')"
      ],
      "metadata": {
        "colab": {
          "base_uri": "https://localhost:8080/"
        },
        "id": "onwar5Damoid",
        "outputId": "32996753-5357-4a09-ea07-c85621e6b223"
      },
      "execution_count": 12,
      "outputs": [
        {
          "output_type": "stream",
          "name": "stdout",
          "text": [
            "Requirement already satisfied: pymorphy3 in /usr/local/lib/python3.11/dist-packages (2.0.3)\n",
            "Requirement already satisfied: dawg2-python>=0.8.0 in /usr/local/lib/python3.11/dist-packages (from pymorphy3) (0.9.0)\n",
            "Requirement already satisfied: pymorphy3-dicts-ru in /usr/local/lib/python3.11/dist-packages (from pymorphy3) (2.4.417150.4580142)\n"
          ]
        },
        {
          "output_type": "stream",
          "name": "stderr",
          "text": [
            "[nltk_data] Downloading package stopwords to /root/nltk_data...\n",
            "[nltk_data]   Package stopwords is already up-to-date!\n"
          ]
        },
        {
          "output_type": "execute_result",
          "data": {
            "text/plain": [
              "True"
            ]
          },
          "metadata": {},
          "execution_count": 12
        }
      ]
    },
    {
      "cell_type": "code",
      "execution_count": 14,
      "metadata": {
        "colab": {
          "base_uri": "https://localhost:8080/"
        },
        "id": "pT9n4FXRmczY",
        "outputId": "d4bc0fca-9204-4784-b0ae-83929fb3c72e"
      },
      "outputs": [
        {
          "output_type": "stream",
          "name": "stdout",
          "text": [
            "['мама мыло рама пойти гулять парк', 'папа чинить машина мама готовить ужин', 'ребёнок играть парка родитель отдыхать']\n"
          ]
        }
      ],
      "source": [
        "stop_words = set(stopwords.words('russian'))\n",
        "\n",
        "morph = MorphAnalyzer()\n",
        "\n",
        "texts = [\n",
        "    \"Мама мыла раму, а потом пошла гулять в парк.\",\n",
        "    \"Папа чинил машину, а мама готовила ужин.\",\n",
        "    \"Дети играли в парке, а родители отдыхали.\"\n",
        "]\n",
        "\n",
        "def preprocess_text(text):\n",
        "    # Токенизация\n",
        "    words = re.findall(r'\\b\\w+\\b', text.lower())\n",
        "\n",
        "    # Лемматизация\n",
        "    lemmas = [morph.parse(word)[0].normal_form for word in words if word not in stop_words and word.isalpha()]\n",
        "\n",
        "    return ' '.join(lemmas)\n",
        "\n",
        "processed_texts = [preprocess_text(text) for text in texts]\n",
        "print(processed_texts)"
      ]
    },
    {
      "cell_type": "code",
      "source": [
        "vectorizer = CountVectorizer()\n",
        "\n",
        "# Bag of Words\n",
        "bow_matrix = vectorizer.fit_transform(processed_texts)\n",
        "\n",
        "bow_array = bow_matrix.toarray()\n",
        "print(\"Матрица Bag of Words:\")\n",
        "print(bow_array)"
      ],
      "metadata": {
        "colab": {
          "base_uri": "https://localhost:8080/"
        },
        "id": "gD17ZvC2pPbN",
        "outputId": "ef285bea-e947-4dbd-9520-935b7cffa86b"
      },
      "execution_count": 15,
      "outputs": [
        {
          "output_type": "stream",
          "name": "stdout",
          "text": [
            "Матрица Bag of Words:\n",
            "[[0 1 0 1 0 1 0 0 1 0 1 1 0 0 0 0]\n",
            " [1 0 0 1 1 0 0 1 0 0 0 0 0 0 1 1]\n",
            " [0 0 1 0 0 0 1 0 0 1 0 0 1 1 0 0]]\n"
          ]
        }
      ]
    },
    {
      "cell_type": "code",
      "source": [
        "tfidf_vectorizer = TfidfVectorizer()\n",
        "\n",
        "# TF-IDF\n",
        "tfidf_matrix = tfidf_vectorizer.fit_transform(processed_texts)\n",
        "\n",
        "tfidf_array = tfidf_matrix.toarray()\n",
        "print(\"Матрица TF-IDF:\")\n",
        "print(tfidf_array)"
      ],
      "metadata": {
        "colab": {
          "base_uri": "https://localhost:8080/"
        },
        "id": "QuPqtQptpJy7",
        "outputId": "7130f61c-8dbf-40bd-9040-af158fabea01"
      },
      "execution_count": 16,
      "outputs": [
        {
          "output_type": "stream",
          "name": "stdout",
          "text": [
            "Матрица TF-IDF:\n",
            "[[0.         0.42339448 0.         0.32200242 0.         0.42339448\n",
            "  0.         0.         0.42339448 0.         0.42339448 0.42339448\n",
            "  0.         0.         0.         0.        ]\n",
            " [0.42339448 0.         0.         0.32200242 0.42339448 0.\n",
            "  0.         0.42339448 0.         0.         0.         0.\n",
            "  0.         0.         0.42339448 0.42339448]\n",
            " [0.         0.         0.4472136  0.         0.         0.\n",
            "  0.4472136  0.         0.         0.4472136  0.         0.\n",
            "  0.4472136  0.4472136  0.         0.        ]]\n"
          ]
        }
      ]
    }
  ]
}
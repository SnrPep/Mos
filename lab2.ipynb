{
  "nbformat": 4,
  "nbformat_minor": 0,
  "metadata": {
    "colab": {
      "provenance": [],
      "authorship_tag": "ABX9TyMd9/GZxAG6iBU1/ZP07ld7",
      "include_colab_link": true
    },
    "kernelspec": {
      "name": "python3",
      "display_name": "Python 3"
    },
    "language_info": {
      "name": "python"
    }
  },
  "cells": [
    {
      "cell_type": "markdown",
      "metadata": {
        "id": "view-in-github",
        "colab_type": "text"
      },
      "source": [
        "<a href=\"https://colab.research.google.com/github/SnrPep/Mos/blob/main/lab2.ipynb\" target=\"_parent\"><img src=\"https://colab.research.google.com/assets/colab-badge.svg\" alt=\"Open In Colab\"/></a>"
      ]
    },
    {
      "cell_type": "code",
      "source": [
        "!pip install pymorphy3\n",
        "import nltk\n",
        "from nltk.corpus import stopwords\n",
        "from pymorphy3 import MorphAnalyzer\n",
        "import re\n",
        "from math import log\n",
        "import numpy as np\n",
        "\n",
        "nltk.download('stopwords')"
      ],
      "metadata": {
        "colab": {
          "base_uri": "https://localhost:8080/"
        },
        "id": "onwar5Damoid",
        "outputId": "4c475cc3-30c8-4229-8191-39b65dc1fd54"
      },
      "execution_count": 21,
      "outputs": [
        {
          "output_type": "stream",
          "name": "stdout",
          "text": [
            "Requirement already satisfied: pymorphy3 in /usr/local/lib/python3.11/dist-packages (2.0.3)\n",
            "Requirement already satisfied: dawg2-python>=0.8.0 in /usr/local/lib/python3.11/dist-packages (from pymorphy3) (0.9.0)\n",
            "Requirement already satisfied: pymorphy3-dicts-ru in /usr/local/lib/python3.11/dist-packages (from pymorphy3) (2.4.417150.4580142)\n"
          ]
        },
        {
          "output_type": "stream",
          "name": "stderr",
          "text": [
            "[nltk_data] Downloading package stopwords to /root/nltk_data...\n",
            "[nltk_data]   Package stopwords is already up-to-date!\n"
          ]
        },
        {
          "output_type": "execute_result",
          "data": {
            "text/plain": [
              "True"
            ]
          },
          "metadata": {},
          "execution_count": 21
        }
      ]
    },
    {
      "cell_type": "code",
      "execution_count": 29,
      "metadata": {
        "colab": {
          "base_uri": "https://localhost:8080/"
        },
        "id": "pT9n4FXRmczY",
        "outputId": "2ccfaf44-02eb-4c6c-c17d-e2ecba084cc4"
      },
      "outputs": [
        {
          "output_type": "stream",
          "name": "stdout",
          "text": [
            "[['мама', 'мыло', 'рама', 'пойти', 'гулять', 'парк'], ['папа', 'чинить', 'машина', 'мама', 'готовить', 'ужин'], ['ребёнок', 'играть', 'парка', 'родитель', 'отдыхать']]\n"
          ]
        }
      ],
      "source": [
        "stop_words = set(stopwords.words('russian'))\n",
        "\n",
        "morph = MorphAnalyzer()\n",
        "\n",
        "texts = [\n",
        "    \"Мама мыла раму, а потом пошла гулять в парк.\",\n",
        "    \"Папа чинил машину, а мама готовила ужин.\",\n",
        "    \"Дети играли в парке, а родители отдыхали.\"\n",
        "]\n",
        "\n",
        "def preprocess_text(text):\n",
        "    # Токенизация\n",
        "    words = re.findall(r'\\b\\w+\\b', text.lower())\n",
        "\n",
        "    # Лемматизация\n",
        "    lemmas = [morph.parse(word)[0].normal_form for word in words if word not in stop_words and word.isalpha()]\n",
        "\n",
        "    return lemmas\n",
        "\n",
        "processed_texts = [preprocess_text(text) for text in texts]\n",
        "print(processed_texts)\n",
        "\n",
        "# Словарь уникальных слов)\n",
        "vocabulary = set()\n",
        "for text in processed_texts:\n",
        "    vocabulary.update(text)\n",
        "vocabulary = sorted(vocabulary)\n",
        "vocabulary_list = list(vocabulary)"
      ]
    },
    {
      "cell_type": "code",
      "source": [
        "# Bag of Words\n",
        "def manual_bow(texts, vocabulary):\n",
        "    bow_matrix = []\n",
        "    for text in texts:\n",
        "        word_counts = {word: 0 for word in vocabulary}\n",
        "        for word in text:\n",
        "            if word in word_counts:\n",
        "                word_counts[word] += 1\n",
        "        bow_matrix.append([word_counts[word] for word in vocabulary])\n",
        "    return np.array(bow_matrix)\n",
        "\n",
        "bow_matrix = manual_bow(processed_texts, vocabulary_list)\n",
        "print(\"Матрица Bag of Words:\")\n",
        "print(bow_matrix)"
      ],
      "metadata": {
        "colab": {
          "base_uri": "https://localhost:8080/"
        },
        "id": "gD17ZvC2pPbN",
        "outputId": "2681475e-478f-452e-d903-2f350c9dfb08"
      },
      "execution_count": 30,
      "outputs": [
        {
          "output_type": "stream",
          "name": "stdout",
          "text": [
            "Матрица Bag of Words:\n",
            "[[0 1 0 1 0 1 0 0 1 0 1 1 0 0 0 0]\n",
            " [1 0 0 1 1 0 0 1 0 0 0 0 0 0 1 1]\n",
            " [0 0 1 0 0 0 1 0 0 1 0 0 1 1 0 0]]\n"
          ]
        }
      ]
    },
    {
      "cell_type": "code",
      "source": [
        "# TF-IDF\n",
        "def manual_tfidf(bow_matrix):\n",
        "    # TF\n",
        "    tf = bow_matrix / bow_matrix.sum(axis=1, keepdims=True)\n",
        "\n",
        "    # IDF\n",
        "    idf = np.array([log(len(bow_matrix) / (1 + np.count_nonzero(bow_matrix[:, i]))) for i in range(bow_matrix.shape[1])])\n",
        "\n",
        "    # TF-IDF\n",
        "    tfidf = tf * idf\n",
        "    return tfidf\n",
        "\n",
        "tfidf_matrix = manual_tfidf(bow_matrix)\n",
        "print(\"Матрица TF-IDF:\")\n",
        "print(tfidf_matrix)"
      ],
      "metadata": {
        "colab": {
          "base_uri": "https://localhost:8080/"
        },
        "id": "QuPqtQptpJy7",
        "outputId": "c2b653c9-5afd-4e47-e4d0-b471b89eb8cb"
      },
      "execution_count": 31,
      "outputs": [
        {
          "output_type": "stream",
          "name": "stdout",
          "text": [
            "\n",
            "Матрица TF-IDF:\n",
            "[[0.         0.06757752 0.         0.         0.         0.06757752\n",
            "  0.         0.         0.06757752 0.         0.06757752 0.06757752\n",
            "  0.         0.         0.         0.        ]\n",
            " [0.06757752 0.         0.         0.         0.06757752 0.\n",
            "  0.         0.06757752 0.         0.         0.         0.\n",
            "  0.         0.         0.06757752 0.06757752]\n",
            " [0.         0.         0.08109302 0.         0.         0.\n",
            "  0.08109302 0.         0.         0.08109302 0.         0.\n",
            "  0.08109302 0.08109302 0.         0.        ]]\n"
          ]
        }
      ]
    }
  ]
}
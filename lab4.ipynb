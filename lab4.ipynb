{
  "nbformat": 4,
  "nbformat_minor": 0,
  "metadata": {
    "colab": {
      "provenance": [],
      "authorship_tag": "ABX9TyPObIKgJEkm+osRZSWAt8o7",
      "include_colab_link": true
    },
    "kernelspec": {
      "name": "python3",
      "display_name": "Python 3"
    },
    "language_info": {
      "name": "python"
    }
  },
  "cells": [
    {
      "cell_type": "markdown",
      "metadata": {
        "id": "view-in-github",
        "colab_type": "text"
      },
      "source": [
        "<a href=\"https://colab.research.google.com/github/SnrPep/Mos/blob/main/lab4.ipynb\" target=\"_parent\"><img src=\"https://colab.research.google.com/assets/colab-badge.svg\" alt=\"Open In Colab\"/></a>"
      ]
    },
    {
      "cell_type": "code",
      "execution_count": 6,
      "metadata": {
        "id": "cv8zY1GGZOmu"
      },
      "outputs": [],
      "source": [
        "import pandas as pd\n",
        "import random\n",
        "import math"
      ]
    },
    {
      "cell_type": "code",
      "source": [
        "#Ядро\n",
        "class Value:\n",
        "    def __init__(self, data, _children=(), _op=''):\n",
        "        self.data = data\n",
        "        self.grad = 0.0\n",
        "        self._backward = lambda: None\n",
        "        self._prev = set(_children)\n",
        "        self._op = _op\n",
        "\n",
        "    def __add__(self, other):\n",
        "        other = other if isinstance(other, Value) else Value(other)\n",
        "        out = Value(self.data + other.data, (self, other), '+')\n",
        "        def _backward():\n",
        "            self.grad += out.grad\n",
        "            other.grad += out.grad\n",
        "        out._backward = _backward\n",
        "        return out\n",
        "\n",
        "    def __mul__(self, other):\n",
        "        other = other if isinstance(other, Value) else Value(other)\n",
        "        out = Value(self.data * other.data, (self, other), '*')\n",
        "        def _backward():\n",
        "            self.grad += other.data * out.grad\n",
        "            other.grad += self.data * out.grad\n",
        "        out._backward = _backward\n",
        "        return out\n",
        "\n",
        "    def __sub__(self, other):\n",
        "        return self + (other * -1)\n",
        "\n",
        "    def __neg__(self):\n",
        "        return self * -1\n",
        "\n",
        "    def __abs__(self):\n",
        "        out = Value(abs(self.data), (self,), 'abs')\n",
        "        def _backward():\n",
        "            self.grad += (1.0 if self.data >= 0 else -1.0) * out.grad\n",
        "        out._backward = _backward\n",
        "        return out\n",
        "\n",
        "    def tanh(self):\n",
        "        t = (math.exp(2 * self.data) - 1) / (math.exp(2 * self.data) + 1)\n",
        "        out = Value(t, (self,), 'tanh')\n",
        "        def _backward():\n",
        "            self.grad += (1 - t**2) * out.grad\n",
        "        out._backward = _backward\n",
        "        return out\n",
        "\n",
        "    def backward(self):\n",
        "        topo = []\n",
        "        visited = set()\n",
        "        def build(v):\n",
        "            if v not in visited:\n",
        "                visited.add(v)\n",
        "                for child in v._prev:\n",
        "                    build(child)\n",
        "                topo.append(v)\n",
        "        build(self)\n",
        "        self.grad = 1.0\n",
        "        for node in reversed(topo):\n",
        "            node._backward()\n",
        "\n",
        "#Нейрон\n",
        "class Neuron:\n",
        "    def __init__(self, nin):\n",
        "        self.w = [Value(random.uniform(-1, 1)) for _ in range(nin)]\n",
        "        self.b = Value(0.0)\n",
        "\n",
        "    def __call__(self, x):\n",
        "        act = sum((wi * xi for wi, xi in zip(self.w, x)), self.b)\n",
        "        return act.tanh()\n",
        "\n",
        "#Слой\n",
        "class Layer:\n",
        "    def __init__(self, nin, nout):\n",
        "        self.neurons = [Neuron(nin) for _ in range(nout)]\n",
        "\n",
        "    def __call__(self, x):\n",
        "        return [neuron(x) for neuron in self.neurons]\n",
        "\n",
        "#Модель\n",
        "class NeuralNet:\n",
        "    def __init__(self, sizes):\n",
        "        self.layers = []\n",
        "        for i in range(len(sizes) - 1):\n",
        "            self.layers.append(Layer(sizes[i], sizes[i+1]))\n",
        "\n",
        "    def __call__(self, x):\n",
        "        for layer in self.layers:\n",
        "            x = layer(x)\n",
        "        return x\n",
        "\n",
        "    def parameters(self):\n",
        "        params = []\n",
        "        for layer in self.layers:\n",
        "            for neuron in layer.neurons:\n",
        "                params.extend(neuron.w + [neuron.b])\n",
        "        return params\n",
        "\n",
        "#Функция потерь — средняя абсолютная ошибка\n",
        "def mean_absolute_error(preds, targets):\n",
        "    losses = [abs(pred - Value(y)) for pred, y in zip(preds, targets)]\n",
        "    return sum(losses, Value(0.0)) * (1 / len(losses))\n"
      ],
      "metadata": {
        "id": "k9WlamoiJsIF"
      },
      "execution_count": 7,
      "outputs": []
    },
    {
      "cell_type": "code",
      "source": [
        "#Датасет\n",
        "df = pd.read_csv('https://raw.githubusercontent.com/mwaskom/seaborn-data/master/iris.csv')\n",
        "X = df[['sepal_length', 'sepal_width', 'petal_length']].values.tolist()\n",
        "y = df['petal_width'].tolist()\n",
        "\n",
        "#Модель и обучение\n",
        "net = NeuralNet([3, 6, 4, 1])\n",
        "epochs = 300\n",
        "lr = 0.05\n",
        "\n",
        "for epoch in range(epochs):\n",
        "    total_loss = 0.0\n",
        "    for xi, yi in zip(X, y):\n",
        "        x_val = [Value(val) for val in xi]\n",
        "        out = net(x_val)\n",
        "        loss = mean_absolute_error(out, [yi])\n",
        "\n",
        "        for p in net.parameters():\n",
        "            p.grad = 0.0\n",
        "        loss.backward()\n",
        "\n",
        "        for p in net.parameters():\n",
        "            p.data -= lr * p.grad\n",
        "\n",
        "        total_loss += loss.data\n",
        "\n",
        "    if epoch % 50 == 0:\n",
        "        print(f\"Эпоха {epoch}: Потеря = {total_loss/len(X):.4f}\")\n"
      ],
      "metadata": {
        "id": "o0N522w4aIsi",
        "colab": {
          "base_uri": "https://localhost:8080/"
        },
        "outputId": "36115838-e03f-4dcd-e636-14f9c0ca7b01"
      },
      "execution_count": 11,
      "outputs": [
        {
          "output_type": "stream",
          "name": "stdout",
          "text": [
            "Эпоха 0: Потеря = 0.5420\n",
            "Эпоха 50: Потеря = 0.4910\n",
            "Эпоха 100: Потеря = 0.4844\n",
            "Эпоха 150: Потеря = 0.4870\n",
            "Эпоха 200: Потеря = 0.4843\n",
            "Эпоха 250: Потеря = 0.4842\n"
          ]
        }
      ]
    },
    {
      "cell_type": "code",
      "source": [
        "#Проверка\n",
        "print(\"\\nПримеры предсказаний:\")\n",
        "for i in range(5):\n",
        "    inp = [Value(v) for v in X[i]]\n",
        "    pred = net(inp)[0].data\n",
        "    print(f\"Настоящее: {y[i]:.2f}, Предсказание: {pred:.2f}\")"
      ],
      "metadata": {
        "colab": {
          "base_uri": "https://localhost:8080/"
        },
        "id": "R1n1Hhd_J6QS",
        "outputId": "2083f9ad-0419-4048-f597-2c8addd35e4a"
      },
      "execution_count": 12,
      "outputs": [
        {
          "output_type": "stream",
          "name": "stdout",
          "text": [
            "\n",
            "Примеры предсказаний:\n",
            "Настоящее: 0.20, Предсказание: 0.12\n",
            "Настоящее: 0.20, Предсказание: 0.12\n",
            "Настоящее: 0.20, Предсказание: 0.12\n",
            "Настоящее: 0.20, Предсказание: 0.12\n",
            "Настоящее: 0.20, Предсказание: 0.12\n"
          ]
        }
      ]
    }
  ]
}
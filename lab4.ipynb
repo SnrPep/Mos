{
  "nbformat": 4,
  "nbformat_minor": 0,
  "metadata": {
    "colab": {
      "provenance": [],
      "authorship_tag": "ABX9TyOTJrq8mx+T/wedgd6G/6b2",
      "include_colab_link": true
    },
    "kernelspec": {
      "name": "python3",
      "display_name": "Python 3"
    },
    "language_info": {
      "name": "python"
    }
  },
  "cells": [
    {
      "cell_type": "markdown",
      "metadata": {
        "id": "view-in-github",
        "colab_type": "text"
      },
      "source": [
        "<a href=\"https://colab.research.google.com/github/SnrPep/Mos/blob/main/lab4.ipynb\" target=\"_parent\"><img src=\"https://colab.research.google.com/assets/colab-badge.svg\" alt=\"Open In Colab\"/></a>"
      ]
    },
    {
      "cell_type": "code",
      "execution_count": 1,
      "metadata": {
        "id": "cv8zY1GGZOmu"
      },
      "outputs": [],
      "source": [
        "import random\n",
        "import math"
      ]
    },
    {
      "cell_type": "code",
      "source": [
        "text = \"i like pizza and i like pasta but i hate broccoli\"\n",
        "words = text.split()\n",
        "vocab = sorted(set(words))\n",
        "stoi = {w: i for i, w in enumerate(vocab)}\n",
        "itos = {i: w for w, i in stoi.items()}\n",
        "vocab_size = len(vocab)"
      ],
      "metadata": {
        "id": "ZVy4aXTgwIwu"
      },
      "execution_count": 2,
      "outputs": []
    },
    {
      "cell_type": "code",
      "source": [
        "class Value:\n",
        "    def __init__(self, data, _children=(), _op=''):\n",
        "        self.data = data\n",
        "        self.grad = 0.0\n",
        "        self._backward = lambda: None\n",
        "        self._prev = set(_children)\n",
        "        self._op = _op\n",
        "\n",
        "    def __add__(self, other):\n",
        "        other = other if isinstance(other, Value) else Value(other)\n",
        "        out = Value(self.data + other.data, (self, other), '+')\n",
        "        def _backward():\n",
        "            self.grad += out.grad\n",
        "            other.grad += out.grad\n",
        "        out._backward = _backward\n",
        "        return out\n",
        "\n",
        "    def __mul__(self, other):\n",
        "        other = other if isinstance(other, Value) else Value(other)\n",
        "        out = Value(self.data * other.data, (self, other), '*')\n",
        "        def _backward():\n",
        "            self.grad += other.data * out.grad\n",
        "            other.grad += self.data * out.grad\n",
        "        out._backward = _backward\n",
        "        return out\n",
        "\n",
        "    def __neg__(self):\n",
        "        return self * -1\n",
        "\n",
        "    def __sub__(self, other):\n",
        "        return self + (-other)\n",
        "\n",
        "    def __abs__(self):\n",
        "        out = Value(abs(self.data), (self,), 'abs')\n",
        "        def _backward():\n",
        "            self.grad += (1 if self.data >= 0 else -1) * out.grad\n",
        "        out._backward = _backward\n",
        "        return out\n",
        "\n",
        "    def tanh(self):\n",
        "        t = (math.exp(2 * self.data) - 1) / (math.exp(2 * self.data) + 1)\n",
        "        out = Value(t, (self,), 'tanh')\n",
        "        def _backward():\n",
        "            self.grad += (1 - t ** 2) * out.grad\n",
        "        out._backward = _backward\n",
        "        return out\n",
        "\n",
        "    def backward(self):\n",
        "        topo = []\n",
        "        visited = set()\n",
        "        def build(v):\n",
        "            if v not in visited:\n",
        "                visited.add(v)\n",
        "                for child in v._prev:\n",
        "                    build(child)\n",
        "                topo.append(v)\n",
        "        build(self)\n",
        "        self.grad = 1.0\n",
        "        for node in reversed(topo):\n",
        "            node._backward()\n",
        "\n",
        "class Neuron:\n",
        "    def __init__(self, nin):\n",
        "        self.w = [Value(random.uniform(-1, 1)) for _ in range(nin)]\n",
        "        self.b = Value(0.0)\n",
        "\n",
        "    def __call__(self, x):\n",
        "        act = sum((wi * xi for wi, xi in zip(self.w, x)), self.b)\n",
        "        return act.tanh()\n",
        "\n",
        "class Layer:\n",
        "    def __init__(self, nin, nout):\n",
        "        self.neurons = [Neuron(nin) for _ in range(nout)]\n",
        "\n",
        "    def __call__(self, x):\n",
        "        return [n(x) for n in self.neurons]\n",
        "\n",
        "class NeuralNet:\n",
        "    def __init__(self, sizes):\n",
        "        self.layers = []\n",
        "        for i in range(len(sizes) - 1):\n",
        "            self.layers.append(Layer(sizes[i], sizes[i + 1]))\n",
        "\n",
        "    def __call__(self, x):\n",
        "        for layer in self.layers:\n",
        "            x = layer(x)\n",
        "        return x\n",
        "\n",
        "    def parameters(self):\n",
        "        return [p for layer in self.layers for neuron in layer.neurons for p in neuron.w + [neuron.b]]\n"
      ],
      "metadata": {
        "id": "GmvQ5SDTwbQH"
      },
      "execution_count": 4,
      "outputs": []
    },
    {
      "cell_type": "code",
      "source": [
        "def one_hot(idx, size):\n",
        "    return [Value(1.0 if i == idx else 0.0) for i in range(size)]\n",
        "\n",
        "context_len = 2\n",
        "X, y = [], []\n",
        "for i in range(len(words) - context_len):\n",
        "    ctx = words[i:i+context_len]\n",
        "    tgt = words[i+context_len]\n",
        "    x = []\n",
        "    for w in ctx:\n",
        "        x.extend(one_hot(stoi[w], vocab_size))\n",
        "    X.append(x)\n",
        "    y.append(stoi[tgt])"
      ],
      "metadata": {
        "id": "5MX3vdMSwOzX"
      },
      "execution_count": 5,
      "outputs": []
    },
    {
      "cell_type": "code",
      "source": [
        "def cross_entropy(preds, target_idx):\n",
        "    exps = [math.exp(p.data) for p in preds]\n",
        "    total = sum(exps)\n",
        "    probs = [e / total for e in exps]\n",
        "    return Value(-math.log(probs[target_idx]))"
      ],
      "metadata": {
        "id": "k9WlamoiJsIF"
      },
      "execution_count": 7,
      "outputs": []
    },
    {
      "cell_type": "code",
      "source": [
        "net = NeuralNet([vocab_size * context_len, 32, 32, vocab_size])\n",
        "lr = 0.05\n",
        "\n",
        "for epoch in range(300):\n",
        "    total_loss = 0\n",
        "    for xi, yi in zip(X, y):\n",
        "        out = net(xi)\n",
        "        loss = cross_entropy(out, yi)\n",
        "\n",
        "        for p in net.parameters():\n",
        "            p.grad = 0.0\n",
        "        loss.backward()\n",
        "        for p in net.parameters():\n",
        "            p.data -= lr * p.grad\n",
        "\n",
        "        total_loss += loss.data\n",
        "    if epoch % 50 == 0:\n",
        "        print(f\"Epoch {epoch} | Loss: {total_loss/len(X):.4f}\")\n"
      ],
      "metadata": {
        "id": "o0N522w4aIsi",
        "colab": {
          "base_uri": "https://localhost:8080/"
        },
        "outputId": "1c3b7806-9c5d-42be-8885-c4ba2fd7a56c"
      },
      "execution_count": 8,
      "outputs": [
        {
          "output_type": "stream",
          "name": "stdout",
          "text": [
            "Epoch 0 | Loss: 2.3942\n",
            "Epoch 50 | Loss: 2.3942\n",
            "Epoch 100 | Loss: 2.3942\n",
            "Epoch 150 | Loss: 2.3942\n",
            "Epoch 200 | Loss: 2.3942\n",
            "Epoch 250 | Loss: 2.3942\n"
          ]
        }
      ]
    },
    {
      "cell_type": "code",
      "source": [
        "def generate(start_words, steps=5):\n",
        "    context = start_words[-context_len:]\n",
        "    result = context.copy()\n",
        "    for _ in range(steps):\n",
        "        x = []\n",
        "        for w in context:\n",
        "            x.extend(one_hot(stoi[w], vocab_size))\n",
        "        out = net(x)\n",
        "        probs = [math.exp(p.data) for p in out]\n",
        "        total = sum(probs)\n",
        "        probs = [p / total for p in probs]\n",
        "        idx = random.choices(range(vocab_size), weights=probs)[0]\n",
        "        word = itos[idx]\n",
        "        result.append(word)\n",
        "        context = result[-context_len:]\n",
        "    return ' '.join(result)\n",
        "\n",
        "print(\"\\nСгенерированный текст:\")\n",
        "print(generate([\"i\", \"like\"], 10))"
      ],
      "metadata": {
        "colab": {
          "base_uri": "https://localhost:8080/"
        },
        "id": "R1n1Hhd_J6QS",
        "outputId": "ea86b12e-a65d-410a-daf4-2128896d6c2c"
      },
      "execution_count": 9,
      "outputs": [
        {
          "output_type": "stream",
          "name": "stdout",
          "text": [
            "\n",
            "Сгенерированный текст:\n",
            "i like like and like pasta but hate hate pasta pasta i\n"
          ]
        }
      ]
    }
  ]
}